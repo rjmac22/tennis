{
 "cells": [
  {
   "cell_type": "markdown",
   "id": "6f86620d-8e97-45e4-8dca-8767b0761c6d",
   "metadata": {},
   "source": [
    "# 🎾 Tennis Match Prediction – Notebook 2: Feature Engineering\n",
    "\n",
    "> 🧠 **Note:** This is our baseline feature engineering notebook. We’re keeping it focused and simple — just enough to build a clean logistic regression model. We'll introduce more features in future notebooks as our modeling goals become more complex.\n",
    "\n",
    "## 📋 What This Notebook Does\n",
    "\n",
    "This notebook creates a small set of clean, interpretable features that we use in our first predictive model. We'll focus on a limited but powerful set of inputs:\n",
    "\n",
    "- 🎯 Ranking difference between players\n",
    "- 🏷️ Seeding status for both winner and loser\n",
    "\n",
    "By keeping our features minimal, we can better understand how each one contributes to model performance. More complex features (like surface, recent form, or break points) will come later.\n",
    "\n"
   ]
  },
  {
   "cell_type": "code",
   "execution_count": 29,
   "id": "ad587cc3-96a7-4e0c-863e-b685812b3ca8",
   "metadata": {},
   "outputs": [],
   "source": [
    "import pandas as pd\n",
    "\n",
    "# Load the cleaned dataset\n",
    "file_path = \"../data/raw/atp_matches_2023.csv\"  # Adjust if needed\n",
    "df = pd.read_csv(file_path)\n"
   ]
  },
  {
   "cell_type": "markdown",
   "id": "2f5dcf8d-fbfc-4c17-b223-fc80fc1a1d02",
   "metadata": {},
   "source": [
    "## 🎯 Feature 1: Ranking Difference\n",
    "\n",
    "This feature captures the **ranking gap** between players. We subtract winner and loser ranks:\n",
    "- A large positive number = winner was lower-ranked (a potential upset)\n",
    "- A negative number = winner was higher-ranked (expected win)\n",
    "\n",
    "Useful in modeling and betting to quantify mismatch risk."
   ]
  },
  {
   "cell_type": "code",
   "execution_count": 30,
   "id": "78b318e5-564c-48a4-91ee-341c7b639174",
   "metadata": {},
   "outputs": [],
   "source": [
    "\n",
    "df['ranking_diff'] = df['loser_rank'] - df['winner_rank']"
   ]
  },
  {
   "cell_type": "markdown",
   "id": "d86c0b4c-d63a-47e0-9ae9-8b219c60f9b9",
   "metadata": {},
   "source": [
    "## 🏷️ Feature 2: Seed Indicator\n",
    "\n",
    "Seeding reflects tournament expectations. We create binary indicators:\n",
    "- `1` if a player is seeded\n",
    "- `0` otherwise\n",
    "\n",
    "This helps evaluate if underdogs are beating expectations or if seeds are consistent performers.\n"
   ]
  },
  {
   "cell_type": "code",
   "execution_count": 31,
   "id": "da4b8e5b-cdb0-4f1c-89b0-a3540955dd14",
   "metadata": {},
   "outputs": [],
   "source": [
    "df['winner_seeded'] = df['winner_seed'].notnull().astype(int)\n",
    "df['loser_seeded'] = df['loser_seed'].notnull().astype(int)"
   ]
  },
  {
   "cell_type": "markdown",
   "id": "3e2a6b5c-3fab-44fb-bbbe-44bfdbe43337",
   "metadata": {},
   "source": [
    "## 💾 Save Processed Data (Optional)\n",
    "\n",
    "Uncomment the line below if you want to save your updated dataset with features:\n"
   ]
  },
  {
   "cell_type": "code",
   "execution_count": 32,
   "id": "2b5a545a-9473-4e6b-a66b-dd692317416c",
   "metadata": {},
   "outputs": [],
   "source": [
    "df.to_csv(\"../data/processed/atp_matches_2023_features.csv\", index=False)"
   ]
  },
  {
   "cell_type": "markdown",
   "id": "cf429a5e-2191-4d5d-86e5-3615ef11b755",
   "metadata": {},
   "source": [
    "## 🔍 Preview Engineered Features\n",
    "\n",
    "Let’s take a look at a few rows of the new features to confirm they’re created properly and help us understand the data we're feeding into the model."
   ]
  },
  {
   "cell_type": "code",
   "execution_count": 33,
   "id": "89a3e68f-ef79-45d4-9f9b-61fafcd5cc8c",
   "metadata": {},
   "outputs": [
    {
     "data": {
      "text/html": [
       "<style type=\"text/css\">\n",
       "</style>\n",
       "<table id=\"T_abc35\" style=\"width:100%;\">\n",
       "  <caption>Preview of Engineered Features</caption>\n",
       "  <thead>\n",
       "    <tr>\n",
       "      <th class=\"blank level0\" >&nbsp;</th>\n",
       "      <th id=\"T_abc35_level0_col0\" class=\"col_heading level0 col0\" >winner_name</th>\n",
       "      <th id=\"T_abc35_level0_col1\" class=\"col_heading level0 col1\" >loser_name</th>\n",
       "      <th id=\"T_abc35_level0_col2\" class=\"col_heading level0 col2\" >winner_rank</th>\n",
       "      <th id=\"T_abc35_level0_col3\" class=\"col_heading level0 col3\" >loser_rank</th>\n",
       "      <th id=\"T_abc35_level0_col4\" class=\"col_heading level0 col4\" >ranking_diff</th>\n",
       "      <th id=\"T_abc35_level0_col5\" class=\"col_heading level0 col5\" >winner_seeded</th>\n",
       "      <th id=\"T_abc35_level0_col6\" class=\"col_heading level0 col6\" >loser_seeded</th>\n",
       "    </tr>\n",
       "  </thead>\n",
       "  <tbody>\n",
       "    <tr>\n",
       "      <th id=\"T_abc35_level0_row0\" class=\"row_heading level0 row0\" >0</th>\n",
       "      <td id=\"T_abc35_row0_col0\" class=\"data row0 col0\" >Taylor Fritz</td>\n",
       "      <td id=\"T_abc35_row0_col1\" class=\"data row0 col1\" >Matteo Berrettini</td>\n",
       "      <td id=\"T_abc35_row0_col2\" class=\"data row0 col2\" >9.0</td>\n",
       "      <td id=\"T_abc35_row0_col3\" class=\"data row0 col3\" >16.0</td>\n",
       "      <td id=\"T_abc35_row0_col4\" class=\"data row0 col4\" >7.0</td>\n",
       "      <td id=\"T_abc35_row0_col5\" class=\"data row0 col5\" >1</td>\n",
       "      <td id=\"T_abc35_row0_col6\" class=\"data row0 col6\" >1</td>\n",
       "    </tr>\n",
       "    <tr>\n",
       "      <th id=\"T_abc35_level0_row1\" class=\"row_heading level0 row1\" >1</th>\n",
       "      <td id=\"T_abc35_row1_col0\" class=\"data row1 col0\" >Frances Tiafoe</td>\n",
       "      <td id=\"T_abc35_row1_col1\" class=\"data row1 col1\" >Lorenzo Musetti</td>\n",
       "      <td id=\"T_abc35_row1_col2\" class=\"data row1 col2\" >19.0</td>\n",
       "      <td id=\"T_abc35_row1_col3\" class=\"data row1 col3\" >23.0</td>\n",
       "      <td id=\"T_abc35_row1_col4\" class=\"data row1 col4\" >4.0</td>\n",
       "      <td id=\"T_abc35_row1_col5\" class=\"data row1 col5\" >0</td>\n",
       "      <td id=\"T_abc35_row1_col6\" class=\"data row1 col6\" >0</td>\n",
       "    </tr>\n",
       "    <tr>\n",
       "      <th id=\"T_abc35_level0_row2\" class=\"row_heading level0 row2\" >2</th>\n",
       "      <td id=\"T_abc35_row2_col0\" class=\"data row2 col0\" >Taylor Fritz</td>\n",
       "      <td id=\"T_abc35_row2_col1\" class=\"data row2 col1\" >Hubert Hurkacz</td>\n",
       "      <td id=\"T_abc35_row2_col2\" class=\"data row2 col2\" >9.0</td>\n",
       "      <td id=\"T_abc35_row2_col3\" class=\"data row2 col3\" >10.0</td>\n",
       "      <td id=\"T_abc35_row2_col4\" class=\"data row2 col4\" >1.0</td>\n",
       "      <td id=\"T_abc35_row2_col5\" class=\"data row2 col5\" >1</td>\n",
       "      <td id=\"T_abc35_row2_col6\" class=\"data row2 col6\" >1</td>\n",
       "    </tr>\n",
       "    <tr>\n",
       "      <th id=\"T_abc35_level0_row3\" class=\"row_heading level0 row3\" >3</th>\n",
       "      <td id=\"T_abc35_row3_col0\" class=\"data row3 col0\" >Frances Tiafoe</td>\n",
       "      <td id=\"T_abc35_row3_col1\" class=\"data row3 col1\" >Kacper Zuk</td>\n",
       "      <td id=\"T_abc35_row3_col2\" class=\"data row3 col2\" >19.0</td>\n",
       "      <td id=\"T_abc35_row3_col3\" class=\"data row3 col3\" >245.0</td>\n",
       "      <td id=\"T_abc35_row3_col4\" class=\"data row3 col4\" >226.0</td>\n",
       "      <td id=\"T_abc35_row3_col5\" class=\"data row3 col5\" >0</td>\n",
       "      <td id=\"T_abc35_row3_col6\" class=\"data row3 col6\" >0</td>\n",
       "    </tr>\n",
       "    <tr>\n",
       "      <th id=\"T_abc35_level0_row4\" class=\"row_heading level0 row4\" >4</th>\n",
       "      <td id=\"T_abc35_row4_col0\" class=\"data row4 col0\" >Stefanos Tsitsipas</td>\n",
       "      <td id=\"T_abc35_row4_col1\" class=\"data row4 col1\" >Matteo Berrettini</td>\n",
       "      <td id=\"T_abc35_row4_col2\" class=\"data row4 col2\" >4.0</td>\n",
       "      <td id=\"T_abc35_row4_col3\" class=\"data row4 col3\" >16.0</td>\n",
       "      <td id=\"T_abc35_row4_col4\" class=\"data row4 col4\" >12.0</td>\n",
       "      <td id=\"T_abc35_row4_col5\" class=\"data row4 col5\" >1</td>\n",
       "      <td id=\"T_abc35_row4_col6\" class=\"data row4 col6\" >1</td>\n",
       "    </tr>\n",
       "  </tbody>\n",
       "</table>\n"
      ],
      "text/plain": [
       "<pandas.io.formats.style.Styler at 0x2657aa0a490>"
      ]
     },
     "metadata": {},
     "output_type": "display_data"
    }
   ],
   "source": [
    "from IPython.display import display\n",
    "\n",
    "preview_cols = [\n",
    "    'winner_name', 'loser_name', 'winner_rank', 'loser_rank', 'ranking_diff',\n",
    "    'winner_seeded', 'loser_seeded'\n",
    "]\n",
    "display(df[preview_cols].head().style.set_table_attributes('style=\"width:100%;\"')\n",
    "        .set_caption(\"Preview of Engineered Features\")\n",
    "        .format(na_rep='-', precision=1))"
   ]
  },
  {
   "cell_type": "code",
   "execution_count": null,
   "id": "846b8127-fe1c-4146-a377-696442261496",
   "metadata": {},
   "outputs": [],
   "source": []
  }
 ],
 "metadata": {
  "kernelspec": {
   "display_name": "Python 3 (ipykernel)",
   "language": "python",
   "name": "python3"
  },
  "language_info": {
   "codemirror_mode": {
    "name": "ipython",
    "version": 3
   },
   "file_extension": ".py",
   "mimetype": "text/x-python",
   "name": "python",
   "nbconvert_exporter": "python",
   "pygments_lexer": "ipython3",
   "version": "3.13.3"
  }
 },
 "nbformat": 4,
 "nbformat_minor": 5
}
