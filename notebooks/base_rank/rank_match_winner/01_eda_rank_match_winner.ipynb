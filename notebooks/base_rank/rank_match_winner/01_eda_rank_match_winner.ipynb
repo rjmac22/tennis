{
 "cells": [
  {
   "cell_type": "markdown",
   "id": "b95f782f-050d-4de4-9bc9-b9201224f631",
   "metadata": {},
   "source": [
    "# 🎾 EDA: Predicting Match Winners Based on Rankings\n",
    "\n",
    "In this notebook, we explore ATP match data with the goal of understanding how player rankings influence match outcomes. Unlike our previous model, which only predicted whether the higher-ranked player won, this time we aim to build a model that predicts the **actual match winner**.\n",
    "\n",
    "We'll load data from **2020 to 2023** (excluding 2024, which we'll reserve for backtesting) and explore:\n",
    " - How often the higher-ranked player wins\n",
    "- How absolute rank gap affects predictability"
   ]
  },
  {
   "cell_type": "markdown",
   "id": "bc5efec9-d6c5-4b49-b19c-b1675425e7a0",
   "metadata": {},
   "source": [
    " ## 📅 Load & Prepare Data\n",
    " We'll load raw ATP match data from 2020 to 2023 and clean it up to keep only relevant columns and valid matches with ranking information."
   ]
  },
  {
   "cell_type": "code",
   "execution_count": 3,
   "id": "dca01830-3f7b-42ff-9527-99d2a36a4015",
   "metadata": {},
   "outputs": [],
   "source": [
    "import pandas as pd\n",
    "import matplotlib.pyplot as plt\n",
    "import seaborn as sns\n",
    "\n",
    "# Years to include in EDA (2024 reserved for backtesting)\n",
    "years = [2020, 2021, 2022, 2023]\n",
    "dfs = []\n",
    "\n",
    "for year in years:\n",
    "    df = pd.read_csv(f\"../../data/raw/atp_matches_{year}.csv\")\n",
    "    df = df[[\n",
    "        \"tourney_date\", \"surface\", \"winner_name\", \"loser_name\",\n",
    "        \"winner_rank\", \"loser_rank\"\n",
    "    ]]\n",
    "    df.dropna(subset=[\"winner_rank\", \"loser_rank\"], inplace=True)\n",
    "    df[\"winner_rank\"] = df[\"winner_rank\"].astype(int)\n",
    "    df[\"loser_rank\"] = df[\"loser_rank\"].astype(int)\n",
    "    df[\"year\"] = year\n",
    "    dfs.append(df)\n",
    "\n",
    "# Combine all years\n",
    "df_all = pd.concat(dfs, ignore_index=True)\n",
    "df_all.reset_index(drop=True, inplace=True)"
   ]
  },
  {
   "cell_type": "code",
   "execution_count": null,
   "id": "6862984d-4a86-4cf9-a039-3e9f919bbb83",
   "metadata": {},
   "outputs": [],
   "source": [
    "## 🔎 Basic Overview\n",
    "Let's look at the size and structure of the combined dataset.\n"
   ]
  },
  {
   "cell_type": "code",
   "execution_count": 4,
   "id": "e0d42394-b8a7-4f7d-8c1e-250c301e1f78",
   "metadata": {},
   "outputs": [
    {
     "name": "stdout",
     "output_type": "stream",
     "text": [
      "<class 'pandas.core.frame.DataFrame'>\n",
      "RangeIndex: 9956 entries, 0 to 9955\n",
      "Data columns (total 7 columns):\n",
      " #   Column        Non-Null Count  Dtype \n",
      "---  ------        --------------  ----- \n",
      " 0   tourney_date  9956 non-null   int64 \n",
      " 1   surface       9920 non-null   object\n",
      " 2   winner_name   9956 non-null   object\n",
      " 3   loser_name    9956 non-null   object\n",
      " 4   winner_rank   9956 non-null   int64 \n",
      " 5   loser_rank    9956 non-null   int64 \n",
      " 6   year          9956 non-null   int64 \n",
      "dtypes: int64(4), object(3)\n",
      "memory usage: 544.6+ KB\n"
     ]
    },
    {
     "data": {
      "text/html": [
       "<div>\n",
       "<style scoped>\n",
       "    .dataframe tbody tr th:only-of-type {\n",
       "        vertical-align: middle;\n",
       "    }\n",
       "\n",
       "    .dataframe tbody tr th {\n",
       "        vertical-align: top;\n",
       "    }\n",
       "\n",
       "    .dataframe thead th {\n",
       "        text-align: right;\n",
       "    }\n",
       "</style>\n",
       "<table border=\"1\" class=\"dataframe\">\n",
       "  <thead>\n",
       "    <tr style=\"text-align: right;\">\n",
       "      <th></th>\n",
       "      <th>tourney_date</th>\n",
       "      <th>surface</th>\n",
       "      <th>winner_name</th>\n",
       "      <th>loser_name</th>\n",
       "      <th>winner_rank</th>\n",
       "      <th>loser_rank</th>\n",
       "      <th>year</th>\n",
       "    </tr>\n",
       "  </thead>\n",
       "  <tbody>\n",
       "    <tr>\n",
       "      <th>0</th>\n",
       "      <td>20200106</td>\n",
       "      <td>Hard</td>\n",
       "      <td>Novak Djokovic</td>\n",
       "      <td>Rafael Nadal</td>\n",
       "      <td>2</td>\n",
       "      <td>1</td>\n",
       "      <td>2020</td>\n",
       "    </tr>\n",
       "    <tr>\n",
       "      <th>1</th>\n",
       "      <td>20200106</td>\n",
       "      <td>Hard</td>\n",
       "      <td>Roberto Bautista Agut</td>\n",
       "      <td>Dusan Lajovic</td>\n",
       "      <td>10</td>\n",
       "      <td>34</td>\n",
       "      <td>2020</td>\n",
       "    </tr>\n",
       "    <tr>\n",
       "      <th>2</th>\n",
       "      <td>20200106</td>\n",
       "      <td>Hard</td>\n",
       "      <td>Novak Djokovic</td>\n",
       "      <td>Daniil Medvedev</td>\n",
       "      <td>2</td>\n",
       "      <td>5</td>\n",
       "      <td>2020</td>\n",
       "    </tr>\n",
       "    <tr>\n",
       "      <th>3</th>\n",
       "      <td>20200106</td>\n",
       "      <td>Hard</td>\n",
       "      <td>Dusan Lajovic</td>\n",
       "      <td>Karen Khachanov</td>\n",
       "      <td>34</td>\n",
       "      <td>17</td>\n",
       "      <td>2020</td>\n",
       "    </tr>\n",
       "    <tr>\n",
       "      <th>4</th>\n",
       "      <td>20200106</td>\n",
       "      <td>Hard</td>\n",
       "      <td>Rafael Nadal</td>\n",
       "      <td>Alex De Minaur</td>\n",
       "      <td>1</td>\n",
       "      <td>18</td>\n",
       "      <td>2020</td>\n",
       "    </tr>\n",
       "  </tbody>\n",
       "</table>\n",
       "</div>"
      ],
      "text/plain": [
       "   tourney_date surface            winner_name       loser_name  winner_rank  \\\n",
       "0      20200106    Hard         Novak Djokovic     Rafael Nadal            2   \n",
       "1      20200106    Hard  Roberto Bautista Agut    Dusan Lajovic           10   \n",
       "2      20200106    Hard         Novak Djokovic  Daniil Medvedev            2   \n",
       "3      20200106    Hard          Dusan Lajovic  Karen Khachanov           34   \n",
       "4      20200106    Hard           Rafael Nadal   Alex De Minaur            1   \n",
       "\n",
       "   loser_rank  year  \n",
       "0           1  2020  \n",
       "1          34  2020  \n",
       "2           5  2020  \n",
       "3          17  2020  \n",
       "4          18  2020  "
      ]
     },
     "execution_count": 4,
     "metadata": {},
     "output_type": "execute_result"
    }
   ],
   "source": [
    "df_all.info()\n",
    "df_all.head()"
   ]
  },
  {
   "cell_type": "markdown",
   "id": "57f6a551-39dd-4473-9132-a0c936e365f2",
   "metadata": {},
   "source": [
    "## 📊 How Often Does the Higher-Ranked Player Win?\n",
    " \n",
    "We'll create a column `higher_ranked_won` that tracks whether the higher-ranked player won the match. This gives us a baseline for how predictive ranking is"
   ]
  },
  {
   "cell_type": "code",
   "execution_count": 5,
   "id": "010ad07b-42a8-4d78-8226-43a79fdd9485",
   "metadata": {},
   "outputs": [
    {
     "name": "stdout",
     "output_type": "stream",
     "text": [
      "Higher-ranked player win rate: 63.93%\n"
     ]
    }
   ],
   "source": [
    "df_all[\"higher_ranked_won\"] = (df_all[\"winner_rank\"] < df_all[\"loser_rank\"]).astype(int)\n",
    "win_rate = df_all[\"higher_ranked_won\"].mean()\n",
    "print(f\"Higher-ranked player win rate: {win_rate:.2%}\")"
   ]
  },
  {
   "cell_type": "markdown",
   "id": "8d23a375-aa74-4041-ad6d-dfbbf21e43e5",
   "metadata": {},
   "source": [
    "## 📌 Insight: Baseline Predictability\n",
    "\n",
    "Over the 2020–2023 period, the higher-ranked player won **63.93%** of matches. This confirms that ATP rankings are meaningfully predictive — but not overwhelmingly so. Roughly 1 in 3 matches are \"upsets\" where the lower-ranked player wins, highlighting the potential for a predictive model to improve over simple heuristics.\n"
   ]
  },
  {
   "cell_type": "markdown",
   "id": "9d890cd7-683f-491b-b736-1e4f7e664f42",
   "metadata": {},
   "source": [
    "## 🔹 Rank Difference Distribution\n",
    "We'll examine how the difference in ranking between winner and loser is distributed. This helps us understand how many matches are between closely-ranked players vs mismatches.\n"
   ]
  },
  {
   "cell_type": "code",
   "execution_count": 8,
   "id": "12f8bb1f-ae5c-40d3-981b-937614f2c5af",
   "metadata": {},
   "outputs": [
    {
     "data": {
      "image/png": "[encoded data removed]",
      "text/plain": [
       "<Figure size 640x480 with 1 Axes>"
      ]
     },
     "metadata": {},
     "output_type": "display_data"
    }
   ],
   "source": [
    "df_all[\"rank_diff\"] = df_all[\"loser_rank\"] - df_all[\"winner_rank\"]\n",
    "sns.histplot(df_all[\"rank_diff\"], bins=30)\n",
    "plt.title(\"Distribution of Rank Differences (Winner vs Loser)\")\n",
    "plt.xlabel(\"Rank Difference (loser - winner)\")\n",
    "plt.show()"
   ]
  },
  {
   "cell_type": "markdown",
   "id": "64806245-ec96-40dc-ae45-2d484af251d3",
   "metadata": {},
   "source": [
    "### 📉 Interpretation: Rank Difference Distribution\n",
    "\n",
    "This plot shows how often matches occur at different rank gaps.\n",
    "\n",
    "- Most matches cluster tightly around a **small rank difference**, which makes sense — especially in later tournament rounds.\n",
    "- There’s a clear right skew, meaning the **higher-ranked player usually wins**.\n",
    "- But there are still plenty of matches with **negative values**, where lower-ranked players defeated stronger opponents — these are the upsets that make prediction interesting.\n",
    "\n",
    "This also shows us that we need to model matches where the rank gap is small differently than when it's large — because those are closer to coin flips."
   ]
  },
  {
   "cell_type": "markdown",
   "id": "0974657a-e475-4413-a5ee-2b5ac48e6e7a",
   "metadata": {},
   "source": [
    "## 📊 Win Rate by Rank Gap\n",
    "In this section, we're testing a key assumption: **Does a larger ranking gap make match outcomes more predictable?**\n",
    "\n",
    "Rather than looking at the rank difference based on the match outcome (which would be circular), we calculate the **absolute rank gap** between the two players. This helps us evaluate how much the distance in skill level — as estimated by ATP rank — correlates with the higher-ranked player winning.\n",
    "\n",
    "We bin these rank gaps into ranges (e.g., 0–10, 10–25, etc.) and compute the win rate of the higher-ranked player in each bin to identify trends."
   ]
  },
  {
   "cell_type": "code",
   "execution_count": 14,
   "id": "f1873ef8-ca2b-4b09-a487-ead7f6d8aa30",
   "metadata": {},
   "outputs": [
    {
     "data": {
      "image/png": "[encoded data removed]",
      "text/plain": [
       "<Figure size 640x480 with 1 Axes>"
      ]
     },
     "metadata": {},
     "output_type": "display_data"
    }
   ],
   "source": [
    "df_all[\"rank_gap\"] = abs(df_all[\"winner_rank\"] - df_all[\"loser_rank\"])\n",
    "gap_bins = [0, 10, 25, 50, 100, 200, 500, 1000]\n",
    "df_all[\"rank_gap_bin\"] = pd.cut(df_all[\"rank_gap\"], bins=gap_bins)\n",
    "\n",
    "win_by_gap = df_all.groupby(\"rank_gap_bin\", observed=True)[\"higher_ranked_won\"].mean().reset_index()\n",
    "\n",
    "sns.barplot(data=win_by_gap, x=\"rank_gap_bin\", y=\"higher_ranked_won\")\n",
    "plt.xticks(rotation=45)\n",
    "plt.ylabel(\"Win Rate of Higher-Ranked Player\")\n",
    "plt.title(\"Win Rate by Rank Gap\")\n",
    "plt.show()"
   ]
  },
  {
   "cell_type": "markdown",
   "id": "4f5d9844-5d0b-4a87-9ea5-5b01f17deefc",
   "metadata": {},
   "source": [
    "### 📈 Interpretation: Win Rate by Rank Gap\n",
    "\n",
    "\n",
    "This plot validates our intuition: **the larger the rank gap, the more likely the higher-ranked player is to win**.\n",
    "\n",
    "- When the rank gap is small (0–10), matches are roughly balanced — win rate is around 56%.\n",
    "- As the gap increases, predictability increases. At a 200–500 rank gap, the higher-ranked player wins nearly 80% of the time.\n",
    "- For massive mismatches (500+), win rate exceeds 80%.\n",
    "\n",
    "This confirms that **absolute rank gap** is a strong signal — and a great candidate for a feature in our final prediction model.\n",
    "\n",
    "This version of the plot avoids mixing up the outcome with the feature. It shows how predictive rank is:\n",
    "\n",
    "- When players are ranked within 10 spots, matches are close to coin flips.\n",
    "- As the gap widens (e.g., 50+ ranks apart), the higher-ranked player wins more consistently.\n",
    "\n",
    "This supports the idea that **rank gap** is a meaningful predictive feature — especially when large."
   ]
  },
  {
   "cell_type": "markdown",
   "id": "22d0272a-fc18-4492-8326-04689dcaeaf4",
   "metadata": {},
   "source": [
    "### 📝 Summary: What We Learned\n",
    "\n",
    "- **Higher-ranked players win ~64% of the time**, confirming that ATP rank has predictive power.\n",
    "- **Rank difference distribution** shows that most matches occur between similarly ranked players — yet upsets still happen.\n",
    "- **Absolute rank gap** is strongly correlated with win probability — bigger gaps lead to more predictable outcomes.\n",
    "\n",
    "\n",
    "These findings shape our next steps: we'll design features that reflect **relative player strength**,  ensure our features reflect only information available **before the match is played**.\n"
   ]
  }
 ],
 "metadata": {
  "kernelspec": {
   "display_name": "Python 3 (ipykernel)",
   "language": "python",
   "name": "python3"
  },
  "language_info": {
   "codemirror_mode": {
    "name": "ipython",
    "version": 3
   },
   "file_extension": ".py",
   "mimetype": "text/x-python",
   "name": "python",
   "nbconvert_exporter": "python",
   "pygments_lexer": "ipython3",
   "version": "3.13.3"
  }
 },
 "nbformat": 4,
 "nbformat_minor": 5
}
